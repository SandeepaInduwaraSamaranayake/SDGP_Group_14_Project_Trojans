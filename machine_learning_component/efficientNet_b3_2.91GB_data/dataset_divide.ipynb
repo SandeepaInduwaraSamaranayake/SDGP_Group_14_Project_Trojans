{
 "cells": [
  {
   "attachments": {},
   "cell_type": "markdown",
   "metadata": {},
   "source": [
    "# Import libraries"
   ]
  },
  {
   "cell_type": "code",
   "execution_count": 1,
   "metadata": {},
   "outputs": [],
   "source": [
    "import os\n",
    "import random\n",
    "import shutil"
   ]
  },
  {
   "attachments": {},
   "cell_type": "markdown",
   "metadata": {},
   "source": [
    "# Divide dataset into three directories train, test and dev- validation (80%, 10%, 10%)\n",
    "## Run this only one time when you want to divide the dataset into test, train and dev"
   ]
  },
  {
   "cell_type": "code",
   "execution_count": null,
   "metadata": {},
   "outputs": [],
   "source": [
    "data_dir = \"dataset\"\n",
    "data_divided_dir = \"data\"\n",
    "\n",
    "# Create the train, val, and test directories inside data-divided\n",
    "os.makedirs(os.path.join(data_divided_dir, \"train\"))\n",
    "os.makedirs(os.path.join(data_divided_dir, \"dev\"))\n",
    "os.makedirs(os.path.join(data_divided_dir, \"test\"))\n",
    "\n",
    "# Loop through each breed directory in data\n",
    "for breed_dir in os.listdir(data_dir):\n",
    "    # Get the list of image files in the breed directory\n",
    "    breed_files = os.listdir(os.path.join(data_dir, breed_dir))\n",
    "    \n",
    "    # Shuffle the list of image files to randomize the order\n",
    "    random.shuffle(breed_files)\n",
    "    \n",
    "    # Calculate the number of files for each set based on the percentages given\n",
    "    num_files = len(breed_files)\n",
    "    num_train_files = int(num_files * 0.8)\n",
    "    num_val_files = int(num_files * 0.1)\n",
    "    num_test_files = num_files - num_train_files - num_val_files\n",
    "    \n",
    "    # Split the list of image files into the train, val, and test sets\n",
    "    train_files = breed_files[:num_train_files]\n",
    "    val_files = breed_files[num_train_files:num_train_files+num_val_files]\n",
    "    test_files = breed_files[num_train_files+num_val_files:]\n",
    "    \n",
    "    # Create the train, val, and test directories inside the breed directory\n",
    "    os.makedirs(os.path.join(data_divided_dir, \"train\", breed_dir))\n",
    "    os.makedirs(os.path.join(data_divided_dir, \"dev\", breed_dir))\n",
    "    os.makedirs(os.path.join(data_divided_dir, \"test\", breed_dir))\n",
    "    \n",
    "    # Move the files to the correct directories in data-divided\n",
    "    for file in train_files:\n",
    "        # Get the source and destination paths for the file in the train set\n",
    "        src = os.path.join(data_dir, breed_dir, file)\n",
    "        dst = os.path.join(data_divided_dir, \"train\", breed_dir, file)\n",
    "        \n",
    "        # Copy the file from the source to the destination\n",
    "        shutil.copy(src, dst)\n",
    "        \n",
    "    for file in val_files:\n",
    "        # Get the source and destination paths for the file in the validation set\n",
    "        src = os.path.join(data_dir, breed_dir, file)\n",
    "        dst = os.path.join(data_divided_dir, \"dev\", breed_dir, file)\n",
    "        \n",
    "        # Copy the file from the source to the destination\n",
    "        shutil.copy(src, dst)\n",
    "        \n",
    "    for file in test_files:\n",
    "        # Get the source and destination paths for the file in the test set\n",
    "        src = os.path.join(data_dir, breed_dir, file)\n",
    "        dst = os.path.join(data_divided_dir, \"test\", breed_dir, file)\n",
    "        \n",
    "        # Copy the file from the source to the destination\n",
    "        shutil.copy(src, dst)"
   ]
  }
 ],
 "metadata": {
  "kernelspec": {
   "display_name": "Python 3 (ipykernel)",
   "language": "python",
   "name": "python3"
  },
  "language_info": {
   "codemirror_mode": {
    "name": "ipython",
    "version": 3
   },
   "file_extension": ".py",
   "mimetype": "text/x-python",
   "name": "python",
   "nbconvert_exporter": "python",
   "pygments_lexer": "ipython3",
   "version": "3.9.13"
  },
  "orig_nbformat": 4
 },
 "nbformat": 4,
 "nbformat_minor": 2
}
