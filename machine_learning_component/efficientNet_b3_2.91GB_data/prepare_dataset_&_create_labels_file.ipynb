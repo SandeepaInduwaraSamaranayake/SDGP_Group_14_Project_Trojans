{
 "cells": [
  {
   "attachments": {},
   "cell_type": "markdown",
   "metadata": {},
   "source": [
    "# Rename dataset folders by replacing spaces with '_' and removing 'dog' word at the end"
   ]
  },
  {
   "cell_type": "code",
   "execution_count": 8,
   "metadata": {
    "vscode": {
     "languageId": "python"
    }
   },
   "outputs": [],
   "source": [
    "import os\n",
    "\n",
    "# Set the root directory where the folders are located\n",
    "root_dir = 'E:/SDGP_TROJANS/machine_learning_component/efficientNet_b3_2.91GB_data/only-dogs'\n",
    "\n",
    "# Loop through all the directories in the root directory\n",
    "for folder_name in os.listdir(root_dir):\n",
    "    # Check if the directory name ends with 'dog'\n",
    "    if folder_name.endswith(' dog'):\n",
    "        # Remove the 'dog' suffix from the folder name\n",
    "        new_name = folder_name[:-4]\n",
    "        # Replace all spaces with underscores\n",
    "        new_name = new_name.replace(' ', '_')\n",
    "        # Get the full path of the folder\n",
    "        folder_path = os.path.join(root_dir, folder_name)\n",
    "        new_folder_path = os.path.join(root_dir, new_name)\n",
    "        # Rename the folder\n",
    "        os.rename(folder_path, new_folder_path)\n"
   ]
  },
  {
   "attachments": {},
   "cell_type": "markdown",
   "metadata": {},
   "source": [
    "# Set the image names with the format of 'class_name_0001' E.g. 'tibetan_spaniel_0002.jpg'"
   ]
  },
  {
   "cell_type": "code",
   "execution_count": 1,
   "metadata": {
    "vscode": {
     "languageId": "python"
    }
   },
   "outputs": [],
   "source": [
    "import os\n",
    "\n",
    "# Set the path to the parent folder containing the subfolders\n",
    "parent_folder_path = \"E:/SDGP_TROJANS/machine_learning_component/efficientNet_b3_2.91GB_data/dataset\"\n",
    "\n",
    "# Loop through each subfolder and rename the files inside it\n",
    "for folder_name in os.listdir(parent_folder_path):\n",
    "    folder_path = os.path.join(parent_folder_path, folder_name)\n",
    "    if os.path.isdir(folder_path):\n",
    "        # Get a list of all the files in the folder\n",
    "        files = os.listdir(folder_path)\n",
    "\n",
    "        # Loop through each file and rename it\n",
    "        for i, file in enumerate(files):\n",
    "            # Get the file extension (e.g. \".jpg\")\n",
    "            ext = os.path.splitext(file)[-1]\n",
    "            # Construct the new file name\n",
    "            new_name = f\"{os.path.basename(folder_path)}_{i+1:04d}{ext}\"\n",
    "            # Rename the file\n",
    "            os.rename(os.path.join(folder_path, file), os.path.join(folder_path, new_name))\n"
   ]
  },
  {
   "attachments": {},
   "cell_type": "markdown",
   "metadata": {},
   "source": [
    "# Get all classes names and create a labels.txt"
   ]
  },
  {
   "cell_type": "code",
   "execution_count": 2,
   "metadata": {
    "vscode": {
     "languageId": "python"
    }
   },
   "outputs": [],
   "source": [
    "import os\n",
    "\n",
    "# Set the directory path where the folders are located\n",
    "dir_path = 'E:/SDGP_TROJANS/machine_learning_component/efficientNet_b3_2.91GB_data/only-dogs'\n",
    "\n",
    "# Get a list of all the folder names in the directory\n",
    "folder_names = [name for name in os.listdir(dir_path) if os.path.isdir(os.path.join(dir_path, name))]\n",
    "\n",
    "# Save the folder names to a text file\n",
    "with open('labels.txt', 'w') as file:\n",
    "    for name in folder_names:\n",
    "        file.write(name + '\\n')\n"
   ]
  }
 ],
 "metadata": {
  "kernelspec": {
   "display_name": "Python 3 (ipykernel)",
   "language": "python",
   "name": "python3"
  },
  "orig_nbformat": 4
 },
 "nbformat": 4,
 "nbformat_minor": 2
}
