{
 "cells": [
  {
   "cell_type": "code",
   "execution_count": null,
   "metadata": {},
   "outputs": [],
   "source": [
    "import os\n",
    "import tensorflow as tf\n",
    "from tensorflow.keras.preprocessing.image import ImageDataGenerator\n",
    "from tensorflow.keras.applications.efficientnet import preprocess_input, decode_predictions\n",
    "\n",
    "# Set the directories for the test data and the saved model\n",
    "test_dir = 'data/test/'\n",
    "model_dir = 'efficientnetb0/Epoch-9'\n",
    "\n",
    "# Load the saved model\n",
    "model = tf.saved_model.load(model_dir)\n",
    "\n",
    "# Compile the model\n",
    "model.compile(optimizer='adam', loss='categorical_crossentropy', metrics=['accuracy'])\n",
    "\n",
    "# Create an ImageDataGenerator for the test data\n",
    "test_datagen = ImageDataGenerator(preprocessing_function=preprocess_input)\n",
    "\n",
    "# Set the batch size and image size\n",
    "batch_size = 32\n",
    "img_size = (224, 224)\n",
    "\n",
    "# Generate test data from the test directory\n",
    "test_data = test_datagen.flow_from_directory(test_dir,\n",
    "                                             target_size=img_size,\n",
    "                                             batch_size=batch_size,\n",
    "                                             class_mode='categorical',\n",
    "                                             shuffle=False)\n",
    "\n",
    "# Evaluate the model on the test data\n",
    "score = model.evaluate(test_data, verbose=0)\n",
    "print('Test loss:', score[0])\n",
    "print('Test accuracy:', score[1])\n",
    "\n",
    "# Generate predictions on the test data\n",
    "preds = model.predict(test_data)\n",
    "\n",
    "# Convert the predictions to class labels\n",
    "class_labels = test_data.class_indices\n",
    "class_labels = {v: k for k, v in class_labels.items()}\n",
    "pred_labels = [class_labels[np.argmax(p)] for p in preds]\n",
    "\n",
    "# Print the predicted labels for each image in the test dataset\n",
    "for i in range(len(test_data.filenames)):\n",
    "    print('Filename:', test_data.filenames[i])\n",
    "    print('Predicted class:', pred_labels[i])\n",
    "    print()"
   ]
  }
 ],
 "metadata": {
  "kernelspec": {
   "display_name": "Python 3 (ipykernel)",
   "language": "python",
   "name": "python3"
  },
  "language_info": {
   "codemirror_mode": {
    "name": "ipython",
    "version": 3
   },
   "file_extension": ".py",
   "mimetype": "text/x-python",
   "name": "python",
   "nbconvert_exporter": "python",
   "pygments_lexer": "ipython3",
   "version": "3.9.13"
  },
  "orig_nbformat": 4
 },
 "nbformat": 4,
 "nbformat_minor": 2
}
